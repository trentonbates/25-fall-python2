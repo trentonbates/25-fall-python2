{
 "cells": [
  {
   "cell_type": "code",
   "execution_count": null,
   "id": "c484c1d0",
   "metadata": {},
   "outputs": [],
   "source": [
    "def histogram(string_list):\n",
    "    '''\n",
    "    Generates a dictionary with the frequency of each item in the given list.\n",
    "\n",
    "    :param string_list: a list of strings\n",
    "    :return: a dictionary containing the items and frequency of each item in the list\n",
    "    '''\n",
    "\n",
    "    temp = dict()\n",
    "    for item in string_list:\n",
    "        if item not in temp.keys():\n",
    "            temp[item] = 1\n",
    "        else:\n",
    "            temp[item] += 1\n",
    "    return temp"
   ]
  },
  {
   "cell_type": "code",
   "execution_count": null,
   "id": "c00f318d",
   "metadata": {},
   "outputs": [],
   "source": [
    "items = ['word', 'text', 'word', 'word', 'string']\n",
    "print(histogram(items))"
   ]
  },
  {
   "cell_type": "code",
   "execution_count": null,
   "id": "c870ec92",
   "metadata": {},
   "outputs": [],
   "source": [
    "def reverse_tuple(tuple_set1, tuple_set2):\n",
    "    '''\n",
    "    :param tuple_set1, tuple_set2: a set of tuples\n",
    "    :return: True if one set has an ordered pair that is the inverse of an ordered pair of the other set and False if not\n",
    "    '''\n",
    "\n",
    "    for item in tuple_set1:\n",
    "        reversed_pair = item[::-1]\n",
    "        if reversed_pair in tuple_set2:\n",
    "            return True\n",
    "    return False"
   ]
  },
  {
   "cell_type": "code",
   "execution_count": null,
   "id": "44dae502",
   "metadata": {},
   "outputs": [],
   "source": [
    "print(reverse_tuple({(1,2),(3,4)},{(2,1),(5,6)}))\n",
    "print(reverse_tuple({(1,2),(3,4)},{(1,2),(2,3)}))"
   ]
  }
 ],
 "metadata": {
  "kernelspec": {
   "display_name": "Python 3",
   "language": "python",
   "name": "python3"
  },
  "language_info": {
   "codemirror_mode": {
    "name": "ipython",
    "version": 3
   },
   "file_extension": ".py",
   "mimetype": "text/x-python",
   "name": "python",
   "nbconvert_exporter": "python",
   "pygments_lexer": "ipython3",
   "version": "3.13.3"
  }
 },
 "nbformat": 4,
 "nbformat_minor": 5
}
