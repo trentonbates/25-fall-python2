{
 "cells": [
  {
   "cell_type": "code",
   "execution_count": null,
   "id": "cbea32ac",
   "metadata": {},
   "outputs": [],
   "source": [
    "def improved_bubble_sort(arr, asc = True):\n",
    "    \"\"\"\n",
    "    :param arr: list of integers\n",
    "    :param asc: optional flag to sort in ascending order if True and descending if False\n",
    "    :return: sorts the entries of arr in ascending/descending order according to flag\n",
    "    \"\"\"\n",
    "\n",
    "    length = len(arr)\n",
    "    has_swapped = False\n",
    "    if asc: # sort ascending\n",
    "        for iteration in range(length - 1):\n",
    "            for loc in range(length - 1):\n",
    "                if arr[loc] > arr[loc + 1]:\n",
    "                    has_swapped = True\n",
    "                    (arr[loc], arr[loc+1]) = (arr[loc+1], arr[loc]) # clean way to swap list entries\n",
    "            if not has_swapped:\n",
    "                return\n",
    "            length -= 1\n",
    "\n",
    "    else: # sort descending\n",
    "        for iteration in range(length - 1):\n",
    "            for loc in range(length - 1):\n",
    "                if arr[loc] < arr[loc + 1]:\n",
    "                    has_swapped = True\n",
    "                    (arr[loc], arr[loc + 1]) = (arr[loc + 1], arr[loc]) # clean way to swap list entries\n",
    "            if not has_swapped:\n",
    "                return\n",
    "            length -= 1"
   ]
  },
  {
   "cell_type": "code",
   "execution_count": null,
   "id": "0e1efb17",
   "metadata": {},
   "outputs": [],
   "source": [
    "test_list = [5, 3, 4, 2, 1]\n",
    "improved_bubble_sort(test_list)\n",
    "print(test_list)"
   ]
  },
  {
   "cell_type": "code",
   "execution_count": null,
   "id": "6ea56d05",
   "metadata": {},
   "outputs": [],
   "source": [
    "def insertion_sort(arr, asc = True):\n",
    "    \"\"\"\n",
    "    :param arr: list of integers\n",
    "    :param asc: optional flag to sort in ascending order if True and descending if False\n",
    "    :return: sorts the entries of arr in ascending/descending order according to flag\n",
    "    \"\"\"\n",
    "    \n",
    "    if asc: # sort ascending\n",
    "        for iteration in range(len(arr)):\n",
    "            key = arr[iteration]\n",
    "            index = iteration - 1\n",
    "\n",
    "            while index >= 0 and arr[index] > key:\n",
    "                arr[index + 1] = arr[index]\n",
    "                index -= 1\n",
    "\n",
    "            arr[index + 1] = key\n",
    "    \n",
    "    else: # sort descending\n",
    "        for iteration in range(len(arr)):\n",
    "            key = arr[iteration]\n",
    "            index = iteration - 1\n",
    "\n",
    "            while index >= 0 and arr[index] < key:\n",
    "                arr[index + 1] = arr[index]\n",
    "                index -= 1\n",
    "\n",
    "            arr[index + 1] = key"
   ]
  },
  {
   "cell_type": "code",
   "execution_count": null,
   "id": "6aad20e2",
   "metadata": {},
   "outputs": [],
   "source": [
    "test_list = [5, 3, 4, 2, 1]\n",
    "insertion_sort(test_list)\n",
    "print(test_list)"
   ]
  },
  {
   "cell_type": "code",
   "execution_count": null,
   "id": "0176059f",
   "metadata": {},
   "outputs": [],
   "source": [
    "def selection_sort(arr, asc = True):\n",
    "    \"\"\"\n",
    "    :param arr: list of integers\n",
    "    :param asc: optional flag to sort in ascending order if True and descending if False\n",
    "    :return: sorts the entries of arr in ascending/descending order according to flag\n",
    "    \"\"\"\n",
    "    \n",
    "    if asc: # sort ascending\n",
    "        for iteration in range(len(arr)):\n",
    "            index = iteration\n",
    "            for loc in range(index + 1, len(arr)):\n",
    "                if arr[loc] < arr[index]:\n",
    "                    index = loc\n",
    "            (arr[iteration], arr[index]) = (arr[index], arr[iteration])\n",
    "\n",
    "    else: # sort descending\n",
    "        for iteration in range(len(arr)):\n",
    "            index = iteration\n",
    "            for loc in range(index + 1, len(arr)):\n",
    "                if arr[loc] > arr[index]:\n",
    "                    index = loc\n",
    "            (arr[iteration], arr[index]) = (arr[index], arr[iteration])"
   ]
  },
  {
   "cell_type": "code",
   "execution_count": null,
   "id": "3bb3f700",
   "metadata": {},
   "outputs": [],
   "source": [
    "test_list = [5, 3, 4, 2, 1]\n",
    "selection_sort(test_list, False)\n",
    "print(test_list)"
   ]
  }
 ],
 "metadata": {
  "kernelspec": {
   "display_name": "Python 3",
   "language": "python",
   "name": "python3"
  },
  "language_info": {
   "codemirror_mode": {
    "name": "ipython",
    "version": 3
   },
   "file_extension": ".py",
   "mimetype": "text/x-python",
   "name": "python",
   "nbconvert_exporter": "python",
   "pygments_lexer": "ipython3",
   "version": "3.12.1"
  }
 },
 "nbformat": 4,
 "nbformat_minor": 5
}
