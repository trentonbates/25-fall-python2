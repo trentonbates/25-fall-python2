{
 "cells": [
  {
   "cell_type": "code",
   "execution_count": 25,
   "id": "957ca736",
   "metadata": {},
   "outputs": [],
   "source": [
    "def shortest_superstring(string_set):\n",
    "    string_list = list(string_set)\n",
    "    \n",
    "    while len(string_list) > 1:\n",
    "        largest_overlap = 0\n",
    "        best_strings = (0, 0)\n",
    "        best_merged_string = ''\n",
    "\n",
    "        for i in range(len(string_list)):\n",
    "            for j in range(len(string_list)):\n",
    "                if i != j:\n",
    "                    string1, string2 = string_list[i], string_list[j]\n",
    "                    overlap = superstring_helper(string1, string2)\n",
    "                    \n",
    "                    if overlap > largest_overlap:\n",
    "                        largest_overlap = overlap\n",
    "                        best_strings = (i, j)\n",
    "                        best_merged_string = superstring_merger(string1, string2, largest_overlap)\n",
    "        \n",
    "        i, j = best_strings\n",
    "\n",
    "        if largest_overlap == 0:\n",
    "            i, j = (0, 1)\n",
    "            best_merged_string = string_list[i] + string_list[j]\n",
    "\n",
    "        modified_strings = list()\n",
    "\n",
    "        for k in range(len(string_list)):\n",
    "            if k != i and k != j:\n",
    "                modified_strings.append(string_list[k])\n",
    "\n",
    "        modified_strings.append(best_merged_string)\n",
    "        string_list = modified_strings\n",
    "    \n",
    "    return string_list[0]\n",
    "\n",
    "def superstring_helper(string1, string2):\n",
    "    overlap = 0\n",
    "    min_length = min(len(string1), len(string2))\n",
    "    for i in range(1, min_length + 1):\n",
    "        if string1[-i:] == string2[:i]:\n",
    "            overlap = i\n",
    "    return overlap\n",
    "\n",
    "def superstring_merger(string1, string2, overlap):\n",
    "    return string1 + string2[overlap:]"
   ]
  },
  {
   "cell_type": "code",
   "execution_count": 26,
   "id": "da09a0b3",
   "metadata": {},
   "outputs": [
    {
     "data": {
      "text/plain": [
       "'ABCDEFXCDEFYZ'"
      ]
     },
     "execution_count": 26,
     "metadata": {},
     "output_type": "execute_result"
    }
   ],
   "source": [
    "shortest_superstring({'ABCDEF', 'BCDEFX', 'XCDEFY', 'DEFYZ'})"
   ]
  },
  {
   "cell_type": "code",
   "execution_count": 27,
   "id": "06a0764d",
   "metadata": {},
   "outputs": [
    {
     "data": {
      "text/plain": [
       "'XYZUVW'"
      ]
     },
     "execution_count": 27,
     "metadata": {},
     "output_type": "execute_result"
    }
   ],
   "source": [
    "shortest_superstring({'UV', 'VW', 'XY', 'YZ'})"
   ]
  }
 ],
 "metadata": {
  "kernelspec": {
   "display_name": "Python 3",
   "language": "python",
   "name": "python3"
  },
  "language_info": {
   "codemirror_mode": {
    "name": "ipython",
    "version": 3
   },
   "file_extension": ".py",
   "mimetype": "text/x-python",
   "name": "python",
   "nbconvert_exporter": "python",
   "pygments_lexer": "ipython3",
   "version": "3.13.3"
  }
 },
 "nbformat": 4,
 "nbformat_minor": 5
}
