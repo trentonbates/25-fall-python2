{
 "cells": [
  {
   "cell_type": "code",
   "execution_count": null,
   "id": "f4bca15e",
   "metadata": {},
   "outputs": [],
   "source": [
    "def is_perfect(input_int):\n",
    "    '''\n",
    "    :param input_int: number to be checked if it is a perfect number\n",
    "    :return: True if yes, False if no\n",
    "    '''\n",
    "\n",
    "    div_sum = 0\n",
    "    for i in range(1, input_int):\n",
    "        if input_int % i == 0:\n",
    "            div_sum += i\n",
    "    if div_sum == input_int:\n",
    "        return True\n",
    "    else:\n",
    "        return False"
   ]
  },
  {
   "cell_type": "code",
   "execution_count": null,
   "id": "75daef7c",
   "metadata": {},
   "outputs": [],
   "source": [
    "print(is_perfect(100))\n",
    "print(is_perfect(496))"
   ]
  },
  {
   "cell_type": "code",
   "execution_count": null,
   "id": "8b21591b",
   "metadata": {},
   "outputs": [],
   "source": [
    "def lcm(int1, int2):\n",
    "    '''\n",
    "    :param int1, int2: integers to be used to find the least common multiple between them\n",
    "    :return: the least common multiple of int1 and int2\n",
    "    '''\n",
    "\n",
    "    multiple = 1\n",
    "    while multiple % int1 != 0 or multiple % int2 != 0:\n",
    "        multiple += 1\n",
    "    return multiple"
   ]
  },
  {
   "cell_type": "code",
   "execution_count": null,
   "id": "8f294c08",
   "metadata": {},
   "outputs": [],
   "source": [
    "print(lcm(6, 10))\n",
    "print(lcm(3, 10))\n",
    "print(lcm(10, 30))"
   ]
  }
 ],
 "metadata": {
  "kernelspec": {
   "display_name": "Python 3",
   "language": "python",
   "name": "python3"
  },
  "language_info": {
   "codemirror_mode": {
    "name": "ipython",
    "version": 3
   },
   "file_extension": ".py",
   "mimetype": "text/x-python",
   "name": "python",
   "nbconvert_exporter": "python",
   "pygments_lexer": "ipython3",
   "version": "3.13.3"
  }
 },
 "nbformat": 4,
 "nbformat_minor": 5
}
