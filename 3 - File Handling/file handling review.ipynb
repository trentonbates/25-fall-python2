{
 "cells": [
  {
   "cell_type": "code",
   "execution_count": 2,
   "id": "6a5f3fdd",
   "metadata": {},
   "outputs": [],
   "source": [
    "def histogram(string_list):\n",
    "    '''\n",
    "    Generates a dictionary with the frequency of each item in the given list.\n",
    "\n",
    "    :param string_list: a list of strings\n",
    "    :return: a dictionary containing the items and frequency of each item in the list\n",
    "    '''\n",
    "\n",
    "    temp = dict()\n",
    "    for item in string_list:\n",
    "        if item not in temp.keys():\n",
    "            temp[item] = 1\n",
    "        else:\n",
    "            temp[item] += 1\n",
    "    return temp"
   ]
  },
  {
   "cell_type": "code",
   "execution_count": 13,
   "id": "57eb8fa8",
   "metadata": {},
   "outputs": [],
   "source": [
    "def anagrams(input_string, input_file, output_file):\n",
    "    '''\n",
    "    Generates all anagrams of given sequence of letters\n",
    "\n",
    "    :param input_string: word to search for all anagrams\n",
    "    :return: None, writes all anagrams on input_string to output.txt\n",
    "    '''\n",
    "\n",
    "    with open(input_file, 'r') as input:\n",
    "        with open(output_file, 'w') as output:\n",
    "            for line in input:\n",
    "                word = line.strip()\n",
    "\n",
    "                if histogram(input_string) == histogram(word):\n",
    "                    output.write(word + '\\n')\n",
    "            output.close()\n",
    "        input.close()"
   ]
  },
  {
   "cell_type": "code",
   "execution_count": 14,
   "id": "7c002e51",
   "metadata": {},
   "outputs": [],
   "source": [
    "anagrams('pots', 'words.txt', 'output.txt')"
   ]
  },
  {
   "cell_type": "code",
   "execution_count": null,
   "id": "22feac4c",
   "metadata": {},
   "outputs": [],
   "source": [
    "anagrams('resent', 'words.txt', 'output.txt')"
   ]
  },
  {
   "cell_type": "code",
   "execution_count": 89,
   "id": "667f5798",
   "metadata": {},
   "outputs": [],
   "source": [
    "def heteropalindromes(input_file):\n",
    "    '''\n",
    "    Generates a set with every unique heteropalindrome from a given file\n",
    "\n",
    "    :param input_file: file to be read from\n",
    "    :return: the set of unique heteropalindromes\n",
    "    '''\n",
    "\n",
    "    with open(input_file, 'r') as input:\n",
    "        words_set = set()\n",
    "        heteropalindromes = set()\n",
    "        for line in input:\n",
    "            words_set.add(line.strip())\n",
    "        for word in words_set:\n",
    "            if word[::-1] in words_set and word != word[::-1]:\n",
    "                heteropalindromes.add(word + ', ' + word[::-1])\n",
    "        input.close()\n",
    "    return heteropalindromes"
   ]
  },
  {
   "cell_type": "code",
   "execution_count": 90,
   "id": "46f731d4",
   "metadata": {},
   "outputs": [
    {
     "name": "stdout",
     "output_type": "stream",
     "text": [
      "{'dam, mad', 'cud, duc', 'skeets, steeks', 'ova, avo', 'lin, nil', 'scud, ducs', 'sod, dos', 'sirs, sris', 'leer, reel', 'nut, tun', 'tons, snot', 'tang, gnat', 'slag, gals', 'nub, bun', 'slab, bals', 'sturts, struts', 'retool, looter', 'rime, emir', 'laced, decal', 'tows, swot', 'depot, toped', 'seven, neves', 'sprits, stirps', 'remit, timer', 'peed, deep', 'vat, tav', 'gal, lag', 'aider, redia', 'gas, sag', 'lager, regal', 'saw, was', 'hap, pah', 'are, era', 'derats, stared', 'stop, pots', 'yaws, sway', 'don, nod', 'alif, fila', 'elides, sedile', 'map, pam', 'reflow, wolfer', 'nips, spin', 'diaper, repaid', 'shoo, oohs', 'dub, bud', 'swam, maws', 'reknits, stinker', 'spay, yaps', 'seer, rees', 'buns, snub', 'pas, sap', 'tops, spot', 'sleek, keels', 'stoped, depots', 'maws, swam', 'denies, seined', 'mils, slim', 'ervil, livre', 'teemer, remeet', 'deep, peed', 'bird, drib', 'un, nu', 'god, dog', 'loot, tool', 'stink, knits', 'tog, got', 'mart, tram', 'secret, terces', 'pol, lop', 'sward, draws', 'lamina, animal', 'spot, tops', 'denier, reined', 'guls, slug', 'sab, bas', 'habus, subah', 'peek, keep', 'stum, muts', 'gip, pig', 'emes, seme', 'tar, rat', 'rial, lair', 'sera, ares', 'leek, keel', 'redia, aider', 'lever, revel', 'bows, swob', 'reman, namer', 'yah, hay', 'enol, lone', 'drub, burd', 'tort, trot', 'snow, wons', 'loops, spool', 'tips, spit', 'neve, even', 'marc, cram', 'nona, anon', 'steels, sleets', 'pals, slap', 'trop, port', 'stow, wots', 'animes, semina', 'derat, tared', 'tinker, reknit', 'mot, tom', 'loof, fool', 'levins, snivel', 'sway, yaws', 'pal, lap', 'bin, nib', 'delf, fled', 'stime, emits', 'tarps, sprat', 'on, no', 'burd, drub', 'sotol, lotos', 'smart, trams', 'toons, snoot', 'warts, straw', 'seel, lees', 'etna, ante', 'liar, rail', 'sloop, pools', 'pis, sip', 'rep, per', 'eros, sore', 'sned, dens', 'diols, sloid', 'saved, devas', 'worts, strow', 'dor, rod', 'airts, stria', 'eta, ate', 'bos, sob', 'las, sal', 'tom, mot', 'top, pot', 'nab, ban', 'telfer, reflet', 'step, pets', 'ya, ay', 'stob, bots', 'sow, wos', 'mid, dim', 'tarp, prat', 'bals, slab', 'swat, taws', 'mined, denim', 'sib, bis', 'spirts, strips', 'abut, tuba', 'imaged, degami', 'nema, amen', 'reknit, tinker', 'gam, mag', 'pan, nap', 'lotos, sotol', 'yaps, spay', 'relaid, dialer', 'larum, mural', 'span, naps', 'swans, snaws', 'was, saw', 'mug, gum', 'gul, lug', 'stool, loots', 'stirps, sprits', 'lived, devil', 'slap, pals', 'taps, spat', 'yar, ray', 'mus, sum', 'tae, eat', 'plug, gulp', 'spar, raps', 'naps, span', 'reel, leer', 'mural, larum', 'draws, sward', 'eked, deke', 'teg, get', 'bus, sub', 'sate, etas', 'stun, nuts', 'pool, loop', 'sniper, repins', 'nap, pan', 'deeps, speed', 'lop, pol', 'taw, wat', 'nil, lin', 'snip, pins', 'tor, rot', 'reified, deifier', 'steeks, skeets', 'tis, sit', 'kips, spik', 'reward, drawer', 'refed, defer', 'rewarder, redrawer', 'tab, bat', 'bis, sib', 'sum, mus', 'cap, pac', 'ho, oh', 'hoop, pooh', 'rod, dor', 'but, tub', 'seracs, scares', 'snub, buns', 'am, ma', 'dels, sled', 'laid, dial', 'swob, bows', 'flog, golf', 'deer, reed', 'dom, mod', 'stang, gnats', 'neves, seven', 'rees, seer', 'stops, spots', 'sloops, spools', 'kay, yak', 'lug, gul', 'toped, depot', 'dahs, shad', 'snoot, toons', 'remeet, teemer', 'stows, swots', 'sag, gas', 'rub, bur', 'way, yaw', 'sedile, elides', 'anger, regna', 'pac, cap', 'ates, seta', 'sit, tis', 'amis, sima', 'lira, aril', 'lee, eel', 'suber, rebus', 'tav, vat', 'keel, leek', 'ay, ya', 'fool, loof', 'trams, smart', 'prat, tarp', 'bins, snib', 'er, re', 'reined, denier', 'drib, bird', 'ben, neb', 'serac, cares', 'dray, yard', 'stria, airts', 'deifier, reified', 'reflet, telfer', 'buts, stub', 'at, ta', 'strips, spirts', 'nib, bin', 'straw, warts', 'dups, spud', 'emits, stime', 'spots, stops', 'gnat, tang', 'it, ti', 'hay, yah', 'nit, tin', 'ad, da', 'stinker, reknits', 'ranid, dinar', 'raps, spar', 'duel, leud', 'yam, may', 'recap, pacer', 'pus, sup', 'ray, yar', 'lied, deil', 'live, evil', 'sun, nus', 'rood, door', 'repel, leper', 'guns, snug', 'war, raw', 'ate, eta', 'reviled, deliver', 'noil, lion', 'tag, gat', 'oohs, shoo', 'laded, dedal', 'wats, staw', 'trad, dart', 'dew, wed', 'struts, sturts', 'dinar, ranid', 'pow, wop', 'new, wen', 'rag, gar', 'knaps, spank', 'leper, repel', 'ram, mar', 'fires, serif', 'led, del', 'sprat, tarps', 'eel, lee', 'mar, ram', 'poons, snoop', 'lap, pal', 'ser, res', 'leg, gel', 'loom, mool', 'ref, fer', 'pots, stop', 'selah, hales', 'wons, snow', 'dig, gid', 'elide, edile', 'seep, pees', 'got, tog', 'spirt, trips', 'rats, star', 'gulp, plug', 'spools, sloops', 'timer, remit', 'pit, tip', 'paws, swap', 'cod, doc', 'gnar, rang', 'wos, sow', 'tressed, dessert', 'lit, til', 'deb, bed', 'nu, un', 'era, are', 'ah, ha', 'sports, strops', 'redrawer, rewarder', 'seam, maes', 'repaid, diaper', 'snug, guns', 'strops, sports', 'recaps, spacer', 'darb, brad', 'dot, tod', 'mag, gam', 'mures, serum', 'wat, taw', 'spider, redips', 'rank, knar', 'pot, top', 'lone, enol', 'avo, ova', 'gals, slag', 'od, do', 'had, dah', 'time, emit', 'bog, gob', 'moot, toom', 'skua, auks', 'dup, pud', 'aril, lira', 'snit, tins', 'trig, girt', 'dib, bid', 'ados, soda', 'gnaws, swang', 'spans, snaps', 'tun, nut', 'doc, cod', 'senega, agenes', 'spit, tips', 'seton, notes', 'moor, room', 'ow, wo', 'tub, but', 'deem, meed', 'gan, nag', 'rap, par', 'subah, habus', 'keets, steek', 'bur, rub', 'redleg, gelder', 'speed, deeps', 'dirts, strid', 'steek, keets', 'fer, ref', 'golf, flog', 'loots, stool', 'no, on', 'dedal, laded', 'mis, sim', 'bag, gab', 'keep, peek', 'mir, rim', 'toom, moot', 'nuts, stun', 'gnus, sung', 'dap, pad', 'leets, steel', 'sim, mis', 'lag, gal', 'pam, map', 'avid, diva', 'strap, parts', 'etas, sate', 'dab, bad', 'loons, snool', 'slop, pols', 'gob, bog', 'so, os', 'nus, sun', 'selahs, shales', 'rennet, tenner', 'bats, stab', 'spat, taps', 'rebut, tuber', 'anon, nona', 'pows, swop', 'arris, sirra', 'swot, tows', 'seined, denies', 'depots, stoped', 'amen, nema', 'par, rap', 'strop, ports', 'terces, secret', 'stellas, sallets', 'ducs, scud', 'pat, tap', 'dag, gad', 'bat, tab', 'edit, tide', 'neb, ben', 're, er', 'tins, snit', 'dens, sned', 'bid, dib', 'sled, dels', 'mood, doom', 'tod, dot', 'tug, gut', 'flow, wolf', 'sip, pis', 'lab, bal', 'spas, saps', 'ten, net', 'redips, spider', 'pig, gip', 'speels, sleeps', 'spacer, recaps', 'trap, part', 'rim, mir', 'garb, brag', 'wolfer, reflow', 'wap, paw', 'ares, sera', 'regna, anger', 'bun, nub', 'dewans, snawed', 'wen, new', 'strid, dirts', 'gats, stag', 'ports, strop', 'teem, meet', 'may, yam', 'keels, sleek', 'big, gib', 'ohm, mho', 'cam, mac', 'me, em', 'swots, stows', 'pins, snip', 'tenner, rennet', 'wets, stew', 'staw, wats', 'snawed, dewans', 'desserts, stressed', 'slim, mils', 'dog, god', 'pols, slop', 'namer, reman', 'bal, lab', 'agenes, senega', 'duc, cud', 'gat, tag', 'scram, marcs', 'swap, paws', 'knits, stink', 'sirra, arris', 'loop, pool', 'yap, pay', 'not, ton', 'del, led', 'pees, seep', 'tap, pat', 'wet, tew', 'emir, rime', 'dial, laid', 'even, neve', 'slug, guls', 'spins, snips', 'cram, marc', 'mura, arum', 'tam, mat', 'em, me', 'livre, ervil', 'smuts, stums', 'sung, gnus', 'stub, buts', 'pupils, slipup', 'spud, dups', 'tas, sat', 'skees, seeks', 'til, lit', 'mat, tam', 'ton, not', 'sleep, peels', 'nom, mon', 'xis, six', 'ti, it', 'dual, laud', 'fila, alif', 'laud, dual', 'strow, worts', 'shah, hahs', 'redraw, warder', 'spool, loops', 'sal, las', 'prod, dorp', 'macs, scam', 'relive, eviler', 'dessert, tressed', 'oat, tao', 'marcs, scram', 'dim, mid', 'shales, selahs', 'seme, emes', 'nos, son', 'lares, seral', 'yaw, way', 'room, moor', 'neep, peen', 'part, trap', 'gnats, stang', 'peen, neep', 'ajar, raja', 'per, rep', 'bud, dub', 'muts, stum', 'decal, laced', 'won, now', 'trot, tort', 'liard, drail', 'spik, kips', 'raw, war', 'rat, tar', 'snaps, spans', 'rail, liar', 'gum, mug', 'wans, snaw', 'snool, loons', 'paw, wap', 'now, won', 'puris, sirup', 'dos, sod', 'tared, derat', 'snaws, swans', 'raj, jar', 'steel, leets', 'meed, deem', 'denim, mined', 'wed, dew', 'ward, draw', 'gab, bag', 'degami, imaged', 'demit, timed', 'looter, retool', 'oh, ho', 'tao, oat', 'gums, smug', 'dees, seed', 'sris, sirs', 'rebus, suber', 'ma, am', 'eh, he', 'sima, amis', 'da, ad', 'pin, nip', 'sirup, puris', 'sloid, diols', 'daw, wad', 'bad, dab', 'auks, skua', 'mho, ohm', 'timed, demit', 'hales, selah', 'duo, oud', 'an, na', 'gel, leg', 'relit, tiler', 'pah, hap', 'slipup, pupils', 'dexes, sexed', 'six, xis', 'drail, liard', 'swang, gnaws', 'oot, too', 'yeh, hey', 'spiks, skips', 'tide, edit', 'deliver, reviled', 'lobo, obol', 'serif, fires', 'spoons, snoops', 'sleeps, speels', 'sat, tas', 'res, ser', 'debut, tubed', 'stressed, desserts', 'tuber, rebut', 'pud, dup', 'mad, dam', 'doom, mood', 'raga, agar', 'smug, gums', 'parts, strap', 'animal, lamina', 'seta, ates', 'net, ten', 'stums, smuts', 'edile, elide', 'girt, trig', 'rang, gnar', 'dormin, nimrod', 'snoop, poons', 'seeks, skees', 'shad, dahs', 'trow, wort', 'bard, drab', 'deil, lied', 'tow, wot', 'revel, lever', 'snaw, wans', 'bas, sab', 'bots, stob', 'sap, pas', 'trips, spirt', 'port, trop', 'yak, kay', 'wad, daw', 'scam, macs', 'cares, serac', 'leud, duel', 'sallets, stellas', 'gib, big', 'pooh, hoop', 'dorp, prod', 'emit, time', 'stag, gats', 'nod, don', 'notes, seton', 'gid, dig', 'saps, spas', 'mool, loom', 'hop, poh', 'spank, knaps', 'nag, gan', 'na, an', 'snips, spins', 'oud, duo', 'deke, eked', 'snot, tons', 'tram, mart', 'agas, saga', 'is, si', 'mac, cam', 'wort, trow', 'tip, pit', 'warder, redraw', 'tils, slit', 'spin, nips', 'wolf, flow', 'stew, wets', 'mod, dom', 'tiler, relit', 'diva, avid', 'peels, sleep', 'tuba, abut', 'burg, grub', 'do, od', 'arum, mura', 'get, teg', 'reed, deer', 'pets, step', 'jar, raj', 'yard, dray', 'scares, seracs', 'brag, garb', 'meter, retem', 'seed, dees', 'star, rats', 'ogre, ergo', 'serum, mures', 'gad, dag', 'seder, redes', 'tew, wet', 'os, so', 'swop, pows', 'meet, teem', 'obol, lobo', 'solon, nolos', 'sup, pus', 'sub, bus', 'son, nos', 'ergo, ogre', 'mon, nom', 'lees, seel', 'wop, pow', 'wot, tow', 'ta, at', 'ban, nab', 'pay, yap', 'snoops, spoons', 'semina, animes', 'dart, trad', 'retem, meter', 'bed, deb', 'defer, refed', 'brad, darb', 'drab, bard', 'raja, ajar', 'lion, noil', 'rot, tor', 'slit, tils', 'ha, ah', 'redes, seder', 'snib, bins', 'poh, hop', 'knar, rank', 'too, oot', 'agar, raga', 'saga, agas', 'pacer, recap', 'wo, ow', 'drawer, reward', 'draw, ward', 'eviler, relive', 'wots, stow', 'stab, bats', 'pans, snap', 'lair, rial', 'si, is', 'pad, dap', 'seral, lares', 'door, rood', 'stared, derats', 'hey, yeh', 'grub, burg', 'ante, etna', 'put, tup', 'soda, ados', 'tubed, debut', 'snap, pans', 'devil, lived', 'nimrod, dormin', 'gut, tug', 'tool, loot', 'nolos, solon', 'nip, pin', 'tin, nit', 'tup, put', 'pools, sloop', 'fled, delf', 'dah, had', 'sleets, steels', 'he, eh', 'evil, live', 'devas, saved', 'sexed, dexes', 'sore, eros', 'taws, swat', 'gelder, redleg', 'hahs, shah', 'snivel, levins', 'dialer, relaid', 'skips, spiks', 'maes, seam', 'sob, bos', 'gar, rag', 'regal, lager', 'repins, sniper', 'eat, tae'}\n"
     ]
    }
   ],
   "source": [
    "print(heteropalindromes('words.txt'))"
   ]
  }
 ],
 "metadata": {
  "kernelspec": {
   "display_name": "Python 3",
   "language": "python",
   "name": "python3"
  },
  "language_info": {
   "codemirror_mode": {
    "name": "ipython",
    "version": 3
   },
   "file_extension": ".py",
   "mimetype": "text/x-python",
   "name": "python",
   "nbconvert_exporter": "python",
   "pygments_lexer": "ipython3",
   "version": "3.13.3"
  }
 },
 "nbformat": 4,
 "nbformat_minor": 5
}
