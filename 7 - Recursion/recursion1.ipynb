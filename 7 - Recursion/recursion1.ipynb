{
 "cells": [
  {
   "cell_type": "code",
   "execution_count": 105,
   "id": "78812518",
   "metadata": {},
   "outputs": [],
   "source": [
    "memo = {\n",
    "    0 : 1,\n",
    "    1 : 1,\n",
    "    2 : 2,\n",
    "    3 : 4\n",
    "}"
   ]
  },
  {
   "cell_type": "code",
   "execution_count": 106,
   "id": "ee7c556b",
   "metadata": {},
   "outputs": [],
   "source": [
    "def colored_blocks(n):\n",
    "    global memo\n",
    "\n",
    "    if n in memo:\n",
    "        return memo[n]\n",
    "    \n",
    "    memo[n] = (colored_blocks(n - 1)\n",
    "               + colored_blocks(n - 2)\n",
    "               + colored_blocks(n - 3)\n",
    "               + colored_blocks(n - 4))\n",
    "    \n",
    "    return memo[n]"
   ]
  },
  {
   "cell_type": "code",
   "execution_count": 107,
   "id": "35eb0b26",
   "metadata": {},
   "outputs": [
    {
     "name": "stdout",
     "output_type": "stream",
     "text": [
      "100808458960497\n"
     ]
    }
   ],
   "source": [
    "print(colored_blocks(50))"
   ]
  },
  {
   "cell_type": "code",
   "execution_count": 108,
   "id": "5b36d118",
   "metadata": {},
   "outputs": [],
   "source": [
    "memo2 = dict()"
   ]
  },
  {
   "cell_type": "code",
   "execution_count": 109,
   "id": "bb219b3c",
   "metadata": {},
   "outputs": [],
   "source": [
    "def stirling2(n, k):\n",
    "    global memo2\n",
    "\n",
    "    for i in range(1, n + 1):\n",
    "        if (i, 1) not in memo2:\n",
    "            memo2[(i, 1)] = 1\n",
    "        if (i, i) not in memo2:\n",
    "            memo2[(i, i)] = 1\n",
    "\n",
    "    if n < 0 or k < 0 or k > n:\n",
    "        return 0\n",
    "    \n",
    "    if (n, k) in memo2:\n",
    "        return memo2[(n, k)]\n",
    "    \n",
    "    memo2[(n, k)] = stirling2(n - 1, k - 1) + k * stirling2(n - 1, k)\n",
    "\n",
    "    return memo2[(n, k)]"
   ]
  },
  {
   "cell_type": "code",
   "execution_count": 110,
   "id": "cb5ef1c2",
   "metadata": {},
   "outputs": [
    {
     "name": "stdout",
     "output_type": "stream",
     "text": [
      "42525\n"
     ]
    }
   ],
   "source": [
    "print(stirling2(10, 5))"
   ]
  }
 ],
 "metadata": {
  "kernelspec": {
   "display_name": "Python 3",
   "language": "python",
   "name": "python3"
  },
  "language_info": {
   "codemirror_mode": {
    "name": "ipython",
    "version": 3
   },
   "file_extension": ".py",
   "mimetype": "text/x-python",
   "name": "python",
   "nbconvert_exporter": "python",
   "pygments_lexer": "ipython3",
   "version": "3.13.1"
  }
 },
 "nbformat": 4,
 "nbformat_minor": 5
}
