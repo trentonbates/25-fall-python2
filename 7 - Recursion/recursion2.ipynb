{
 "cells": [
  {
   "cell_type": "code",
   "execution_count": null,
   "id": "c110a5aa",
   "metadata": {},
   "outputs": [],
   "source": [
    "num_list = [6, 5, 5, 7, 4, 8, 3, 5, 1, 2, 9]"
   ]
  },
  {
   "cell_type": "code",
   "execution_count": null,
   "id": "6d988270",
   "metadata": {},
   "outputs": [],
   "source": [
    "def mergesort(integers):\n",
    "    ..."
   ]
  },
  {
   "cell_type": "code",
   "execution_count": null,
   "id": "d4715f4d",
   "metadata": {},
   "outputs": [],
   "source": [
    "print(mergesort(num_list))"
   ]
  },
  {
   "cell_type": "code",
   "execution_count": null,
   "id": "bf9bdc77",
   "metadata": {},
   "outputs": [],
   "source": [
    "def selection_recursive(integers):\n",
    "    ..."
   ]
  },
  {
   "cell_type": "code",
   "execution_count": null,
   "id": "35ac151b",
   "metadata": {},
   "outputs": [],
   "source": [
    "print(selection_recursive(num_list))"
   ]
  }
 ],
 "metadata": {
  "language_info": {
   "name": "python"
  }
 },
 "nbformat": 4,
 "nbformat_minor": 5
}
