{
 "cells": [
  {
   "cell_type": "markdown",
   "metadata": {},
   "source": [
    "generate_permutations\\\n",
    "INPUT: partial_perm (partial permutation) and remaining_chars (list of unused characters)\\\n",
    "OUTPUT: all permutations that can be formed by starting with partial_perm and ending with the characters in remaining_chars\\\n",
    "\\\n",
    "IF remaining_chars empty\\\n",
    "&nbsp;&nbsp;&nbsp;&nbsp;STORE partial_perm in a global list\\\n",
    "ELSE\\\n",
    "&nbsp;&nbsp;&nbsp;&nbsp;FOR each char in remaining_chars\\\n",
    "&nbsp;&nbsp;&nbsp;&nbsp;&nbsp;&nbsp;&nbsp;&nbsp;APPEND char to partial_perm\\\n",
    "&nbsp;&nbsp;&nbsp;&nbsp;&nbsp;&nbsp;&nbsp;&nbsp;REMOVE char from remaining_chars\\\n",
    "&nbsp;&nbsp;&nbsp;&nbsp;&nbsp;&nbsp;&nbsp;&nbsp;CALL generate_permutations with updated partial_perm and remaining_chars"
   ]
  },
  {
   "cell_type": "code",
   "execution_count": null,
   "metadata": {},
   "outputs": [],
   "source": [
    "all_perms = list() # global list used to hold all permutations\n",
    "\n",
    "def generate_permutations(partial_perm, remaining_chars):\n",
    "    \"\"\"\n",
    "    Recursive backtracking algorithm to generate all permutations.\n",
    "    Initial call is generate_permutations([], all_chars), where all_chars represents the set of all characters\n",
    "    to be permuted.\n",
    "\n",
    "    :param partial_perm: list containing the initial characters of the permutation in a fixed order\n",
    "    :param remaining_chars: list containing all remaining characters not yet included in the permutation\n",
    "    :return:\n",
    "    \"\"\"\n",
    "\n",
    "    # Permutation found\n",
    "    if len(remaining_chars) == 0:\n",
    "        global all_perms\n",
    "        all_perms.append(partial_perm)\n",
    "\n",
    "\n",
    "        # Printing to the screen just for instructional purposes\n",
    "        print('Permutation Found:', partial_perm)\n",
    "        print()\n",
    "\n",
    "\n",
    "    # Otherwise, make a recursive call appending each unused character to partial_perm\n",
    "    else:\n",
    "        for char in remaining_chars:  # loop over all possible choices\n",
    "            print('partial_perm:', partial_perm)\n",
    "            print('remaining_chars:', remaining_chars)\n",
    "            print()\n",
    "\n",
    "            # Make copies of the data structures to pass to the recursive call\n",
    "            partial_perm_copy = partial_perm.copy()\n",
    "            partial_perm_copy.append(char)\n",
    "\n",
    "            remaining_chars_copy = remaining_chars.copy()\n",
    "            remaining_chars_copy.remove(char)\n",
    "\n",
    "            generate_permutations(partial_perm_copy, remaining_chars_copy)"
   ]
  },
  {
   "cell_type": "code",
   "execution_count": null,
   "metadata": {},
   "outputs": [],
   "source": [
    "generate_permutations([], [1, 2, 3, 4])\n",
    "print(all_perms)"
   ]
  },
  {
   "cell_type": "code",
   "execution_count": null,
   "metadata": {},
   "outputs": [],
   "source": [
    "# Modifying a list that you are looping over is problematic\n",
    "test_list = [0, 1, 2, 3, 4]\n",
    "\n",
    "# This list should remove everything from test_list\n",
    "for i in test_list:\n",
    "    test_list.remove(i)\n",
    "\n",
    "print(test_list)\n"
   ]
  },
  {
   "cell_type": "code",
   "execution_count": null,
   "metadata": {},
   "outputs": [],
   "source": [
    "# A better solution is to loop over a different copy than the one you are modifying.\n",
    "\n",
    "test_list = [0, 1, 2, 3, 4]\n",
    "test_list_copy = test_list.copy()\n",
    "\n",
    "# This list does remove everything from test_list\n",
    "for i in test_list:\n",
    "    test_list_copy.remove(i)\n",
    "\n",
    "print(test_list)\n",
    "print(test_list_copy)\n"
   ]
  }
 ],
 "metadata": {
  "kernelspec": {
   "display_name": "Python 3",
   "language": "python",
   "name": "python3"
  },
  "language_info": {
   "codemirror_mode": {
    "name": "ipython",
    "version": 3
   },
   "file_extension": ".py",
   "mimetype": "text/x-python",
   "name": "python",
   "nbconvert_exporter": "python",
   "pygments_lexer": "ipython3",
   "version": "3.12.1"
  }
 },
 "nbformat": 4,
 "nbformat_minor": 2
}
