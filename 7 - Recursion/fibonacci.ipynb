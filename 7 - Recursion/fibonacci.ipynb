{
 "cells": [
  {
   "cell_type": "code",
   "execution_count": null,
   "metadata": {},
   "outputs": [],
   "source": [
    "import time"
   ]
  },
  {
   "cell_type": "code",
   "execution_count": null,
   "metadata": {},
   "outputs": [],
   "source": [
    "def fibonacci(n):\n",
    "    \"\"\"\n",
    "    Computes the nth Fibonacci number using (top-down) recursion.\n",
    "    The recurrence relation is fibonacci(n) =  fibonacci(n - 1) + fibonacci(n - 2).\n",
    "    The base cases are fibonacci(1) = 1 and fibonacci(2) = 1.\n",
    "\n",
    "    :param n: integer n\n",
    "    :return: the nth Fibonacci number\n",
    "    \"\"\"\n",
    "\n",
    "    # Base cases\n",
    "    if n == 1:\n",
    "        return 1\n",
    "    elif n == 2:\n",
    "        return 1\n",
    "\n",
    "    # Recursive case\n",
    "    else:\n",
    "        return fibonacci(n - 1) + fibonacci(n - 2)\n"
   ]
  },
  {
   "cell_type": "code",
   "execution_count": null,
   "metadata": {},
   "outputs": [],
   "source": [
    "start = time.time()\n",
    "print(fibonacci(40))\n",
    "end = time.time()\n",
    "print(end - start)"
   ]
  },
  {
   "cell_type": "code",
   "execution_count": null,
   "metadata": {},
   "outputs": [],
   "source": [
    "# Need a global dictionary to store known values\n",
    "# The memo is initialized with base cases.\n",
    "known_fib_numbers = {1: 1, 2: 1}\n",
    "\n",
    "def fibonacci_memo(n):\n",
    "    \"\"\"\n",
    "    Computes the nth Fibonacci number using (top-down) recursion.\n",
    "    Results are globally memoized to greatly improve efficiency.\n",
    "    The recurrence relation is fibonacci(n) =  fibonacci(n - 1) + fibonacci(n - 2).\n",
    "    The base cases are fibonacci(1) = 1 and fibonacci(2) = 1.\n",
    "\n",
    "    :param n: integer n\n",
    "    :return: the nth Fibonacci number\n",
    "    \"\"\"\n",
    "    \n",
    "    global known_fib_numbers # gives function access to the global scope dictionary\n",
    "\n",
    "    # All previously computed cases (including base cases) are now handled by the dictionary of known values\n",
    "    if n in known_fib_numbers:\n",
    "        return known_fib_numbers[n]\n",
    "\n",
    "    # Recursive case\n",
    "    else:\n",
    "        fib_n = fibonacci_memo(n - 1) + fibonacci_memo(n - 2)\n",
    "\n",
    "        # Update the dictionary of known values before returning\n",
    "        known_fib_numbers[n] = fib_n\n",
    "        return fib_n\n"
   ]
  },
  {
   "cell_type": "code",
   "execution_count": null,
   "metadata": {},
   "outputs": [],
   "source": [
    "start = time.time()\n",
    "print(fibonacci_memo(1000))\n",
    "end = time.time()\n",
    "print(end - start)\n",
    "print(known_fib_numbers)"
   ]
  },
  {
   "cell_type": "code",
   "execution_count": null,
   "metadata": {},
   "outputs": [],
   "source": [
    "# Hint for Stirling numbers assignment\n",
    "# Example of checking whether a data type is empty in Python\n",
    "known = dict()\n",
    "\n",
    "if not(known): # known evaluates to true if there is something in it\n",
    "    print('dictionary is empty - you should put some base cases in here')\n",
    "    for i in range(1,10):\n",
    "        known[i,i] = 1\n",
    "        known[i,1] = 1\n",
    "\n",
    "print(known)"
   ]
  },
  {
   "cell_type": "code",
   "execution_count": null,
   "metadata": {},
   "outputs": [],
   "source": []
  }
 ],
 "metadata": {
  "kernelspec": {
   "display_name": "Python 3",
   "language": "python",
   "name": "python3"
  },
  "language_info": {
   "codemirror_mode": {
    "name": "ipython",
    "version": 3
   },
   "file_extension": ".py",
   "mimetype": "text/x-python",
   "name": "python",
   "nbconvert_exporter": "python",
   "pygments_lexer": "ipython3",
   "version": "3.12.1"
  }
 },
 "nbformat": 4,
 "nbformat_minor": 2
}
