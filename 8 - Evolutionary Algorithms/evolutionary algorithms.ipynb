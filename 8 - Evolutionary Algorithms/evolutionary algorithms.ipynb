{
 "cells": [
  {
   "cell_type": "code",
   "execution_count": 85,
   "id": "c471c5cf",
   "metadata": {},
   "outputs": [],
   "source": [
    "from items import items\n",
    "import random"
   ]
  },
  {
   "cell_type": "code",
   "execution_count": 86,
   "id": "2090704e",
   "metadata": {},
   "outputs": [],
   "source": [
    "def total(list, value=False):\n",
    "    '''\n",
    "    Calculates the total weight of the list or the total value of the list.\n",
    "\n",
    "    :param list: list of items to be calculated\n",
    "    :param value (optional): if value is set to True, then the value will be calculated, if left out, the weight will be calculated\n",
    "    :return: total weight or total value\n",
    "    '''\n",
    "    total = 0\n",
    "    for item in list:\n",
    "        if value:\n",
    "            total += item[1]\n",
    "        else:\n",
    "            total += item[0]\n",
    "    return total"
   ]
  },
  {
   "cell_type": "code",
   "execution_count": 87,
   "id": "706c0402",
   "metadata": {},
   "outputs": [],
   "source": [
    "def knapsack(capacity):\n",
    "    '''\n",
    "    Finds the best combination of items that have the highest total value while not exceeding the given capacity (weight).\n",
    "\n",
    "    :param capacity: the maximum weight a knapsack can be\n",
    "    :return: the list of items in the knapsack\n",
    "    '''\n",
    "    # INITIALIZE\n",
    "    best_knapsack = list()\n",
    "    best_value = 0\n",
    "    prev_best = 0\n",
    "\n",
    "    while True:\n",
    "\n",
    "        for offspring_num in range(100):\n",
    "            offspring = best_knapsack.copy()\n",
    "\n",
    "            # MUTATE\n",
    "            # create an array of items that arent in the backpack and then take a sample from that\n",
    "            available_items = list()\n",
    "            for item in items:\n",
    "                if item not in offspring:\n",
    "                    available_items.append(item)\n",
    "            random_item = random.choice(available_items)\n",
    "            \n",
    "            # Checks if the current offspring has items and if the current capacity plus the weight of the new item would exceed the wanted capacity.\n",
    "            while offspring and total(offspring) + random_item[0] > capacity:\n",
    "                offspring.pop(random.randrange(len(offspring)))\n",
    "\n",
    "            offspring.append(random_item)\n",
    "\n",
    "            # SELECT\n",
    "            offspring_value = total(offspring, True)\n",
    "            \n",
    "            if offspring_value > best_value:\n",
    "                best_knapsack = offspring\n",
    "                best_value = offspring_value\n",
    "\n",
    "        # TERMINATE\n",
    "        # if two consecutive generations are the same, returns the current best_knapsack\n",
    "        if best_value == prev_best:\n",
    "            return best_knapsack\n",
    "        \n",
    "        prev_best = best_value"
   ]
  },
  {
   "cell_type": "code",
   "execution_count": 90,
   "id": "b4b5792a",
   "metadata": {},
   "outputs": [
    {
     "name": "stdout",
     "output_type": "stream",
     "text": [
      "[(1, 28), (1, 30), (5, 35), (7, 40), (9, 39), (18, 48), (1, 17), (5, 31), (4, 31), (5, 34), (20, 41), (6, 50), (12, 44), (10, 39), (5, 40), (5, 38), (11, 49), (13, 37), (17, 48), (9, 49), (8, 47), (2, 23), (3, 29), (2, 46), (9, 50), (3, 12), (4, 15), (6, 37), (3, 23), (3, 48), (10, 50), (9, 29), (13, 32), (4, 18), (13, 49), (3, 13), (9, 43), (1, 27), (4, 26), (10, 33), (10, 29), (7, 35)]\n"
     ]
    }
   ],
   "source": [
    "print(knapsack(300))"
   ]
  }
 ],
 "metadata": {
  "kernelspec": {
   "display_name": "Python 3",
   "language": "python",
   "name": "python3"
  },
  "language_info": {
   "codemirror_mode": {
    "name": "ipython",
    "version": 3
   },
   "file_extension": ".py",
   "mimetype": "text/x-python",
   "name": "python",
   "nbconvert_exporter": "python",
   "pygments_lexer": "ipython3",
   "version": "3.13.1"
  }
 },
 "nbformat": 4,
 "nbformat_minor": 5
}
