{
 "cells": [
  {
   "cell_type": "markdown",
   "id": "1b7ed1a9",
   "metadata": {},
   "source": [
    "FUNCTION knapsack\n",
    "\n",
    "INITIALIZE\n",
    "best_knapsack ← empty list\n",
    "best_value ← 0\n",
    "prev_best ← -1\n",
    "\n",
    "REPEAT until best_value == prev_best:\n",
    "\n",
    "FOR 100 offspring:\n",
    "\n",
    "MUTATION\n",
    "offspring ← copy of best_knapsack\n",
    "\n",
    "available_items ← all item indexes NOT in offspring\n",
    "random_item ← random choice from available_items\n",
    "\n",
    "WHILE offspring IS NOT empty AND (total_weight(offspring) + weight(random_item)) > capacity:\n",
    "remove a random item from offspring\n",
    "\n",
    "add random_item to offspring\n",
    "\n",
    "SELECTION\n",
    "offspring_value ← total_value(offspring)\n",
    "\n",
    "IF offspring_value > best_value:\n",
    "best_knapsack ← offspring\n",
    "best_value ← offspring_value\n",
    "\n",
    "prev_best ← best_value\n",
    "\n",
    "RETURN best_knapsack"
   ]
  },
  {
   "cell_type": "code",
   "execution_count": 162,
   "id": "c471c5cf",
   "metadata": {},
   "outputs": [],
   "source": [
    "from items import items\n",
    "import random"
   ]
  },
  {
   "cell_type": "code",
   "execution_count": 174,
   "id": "2090704e",
   "metadata": {},
   "outputs": [],
   "source": [
    "def total(items_list, value=False):\n",
    "    '''\n",
    "    Calculates the total weight of the list or the total value of the list.\n",
    "\n",
    "    :param list: list of items to be calculated\n",
    "    :param value (optional): if value is set to True, then the value will be calculated, if left out, the weight will be calculated\n",
    "    :return: total weight or total value\n",
    "    '''\n",
    "    total = 0\n",
    "    for item in items_list:\n",
    "        if value:\n",
    "            total += items[item][1]\n",
    "        else:\n",
    "            total += items[item][0]\n",
    "    return total"
   ]
  },
  {
   "cell_type": "code",
   "execution_count": 173,
   "id": "706c0402",
   "metadata": {},
   "outputs": [],
   "source": [
    "def knapsack(capacity):\n",
    "    '''\n",
    "    Finds the best combination of items that have the highest total value while not exceeding the given capacity (weight).\n",
    "\n",
    "    :param capacity: the maximum weight a knapsack can be\n",
    "    :return: the list of items in the knapsack\n",
    "    '''\n",
    "    # INITIALIZE\n",
    "    best_knapsack = list()\n",
    "    best_value = 0\n",
    "    prev_best = 0\n",
    "\n",
    "    while True:\n",
    "\n",
    "        for offspring_num in range(100):\n",
    "            offspring = best_knapsack.copy()\n",
    "\n",
    "            # MUTATE\n",
    "            # Create a list of items that are not currently in the knapsack\n",
    "            available_items = list()\n",
    "            for i in range(len(items)):\n",
    "                if i not in offspring:\n",
    "                    available_items.append(i)\n",
    "            random_item = random.choice(available_items)\n",
    "            \n",
    "            # While the knapsack has items and the total weight plus the weight of the item to be added exceeds the wanted capacity,\n",
    "            # removes an item from the knapsack at random until it can fit the new item.\n",
    "            while offspring and total(offspring) + items[random_item][0] > capacity:\n",
    "                offspring.pop(random.randrange(len(offspring)))\n",
    "\n",
    "            offspring.append(random_item)\n",
    "\n",
    "            # SELECT\n",
    "            offspring_value = total(offspring, True)\n",
    "            \n",
    "            if offspring_value > best_value:\n",
    "                best_knapsack = offspring\n",
    "                best_value = offspring_value\n",
    "\n",
    "        # TERMINATE\n",
    "        # If two consecutive generations are the same, returns the current best_knapsack\n",
    "        if best_value == prev_best:\n",
    "            return best_knapsack\n",
    "        \n",
    "        prev_best = best_value"
   ]
  },
  {
   "cell_type": "code",
   "execution_count": 161,
   "id": "b4b5792a",
   "metadata": {},
   "outputs": [
    {
     "name": "stdout",
     "output_type": "stream",
     "text": [
      "[18, 32, 35, 56, 75, 71, 37, 77, 21, 82, 76, 64, 91, 17, 83, 47, 42, 16, 72, 20, 60, 28, 70, 66, 40, 23, 53, 50, 48, 58, 90, 43, 62, 79, 99, 14, 13, 51, 49]\n"
     ]
    }
   ],
   "source": [
    "print(knapsack(300))"
   ]
  }
 ],
 "metadata": {
  "kernelspec": {
   "display_name": "Python 3",
   "language": "python",
   "name": "python3"
  },
  "language_info": {
   "codemirror_mode": {
    "name": "ipython",
    "version": 3
   },
   "file_extension": ".py",
   "mimetype": "text/x-python",
   "name": "python",
   "nbconvert_exporter": "python",
   "pygments_lexer": "ipython3",
   "version": "3.13.3"
  }
 },
 "nbformat": 4,
 "nbformat_minor": 5
}
