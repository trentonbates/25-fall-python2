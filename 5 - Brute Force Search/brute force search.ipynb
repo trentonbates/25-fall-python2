{
 "cells": [
  {
   "cell_type": "code",
   "execution_count": 2,
   "id": "17fffd3c",
   "metadata": {},
   "outputs": [],
   "source": [
    "def palindromic_product(n):\n",
    "    # initialize variables and data structures to be used in the function\n",
    "    int1 = pow(10, n) - 1\n",
    "    int2 = int1\n",
    "    largest_product = 0\n",
    "    temp = list()\n",
    "\n",
    "    # loops until int1 is less than the smallest n-digit number\n",
    "    while int1 > pow(10, n - 1) - 1:\n",
    "\n",
    "        # loops until int2 is less than the smallest n-digit number\n",
    "        while int2 > pow(10, n - 1) - 1:\n",
    "\n",
    "            # checks if int1 is greater than or equal to int2, this will cut the number of calculations done in half\n",
    "            if int1 >= int2:\n",
    "                product = int1 * int2\n",
    "\n",
    "                if str(product) == str(product)[::-1]:\n",
    "                    temp.append((int1, int2, product))\n",
    "                    print(temp)\n",
    "\n",
    "                # checks if product is a palindrome and is greater than current largest product\n",
    "                if str(product) == str(product)[::-1] and product > largest_product:\n",
    "                    largest_product = product\n",
    "\n",
    "            # increments int2 down 1 after each loop\n",
    "            int2 -= 1\n",
    "\n",
    "        # resets the value of int2 after reaching the smallest n-digit possible\n",
    "        int2 = pow(10, n) - 1\n",
    "\n",
    "        # increments int1 down 1 after each loop\n",
    "        int1 -= 1\n",
    "    return largest_product"
   ]
  },
  {
   "cell_type": "code",
   "execution_count": null,
   "metadata": {},
   "outputs": [
    {
     "name": "stdout",
     "output_type": "stream",
     "text": [
      "[(9999995, 5866663, 58666600666685)]\n",
      "[(9999995, 5866663, 58666600666685), (9999995, 5133337, 51333344333315)]\n",
      "[(9999995, 5866663, 58666600666685), (9999995, 5133337, 51333344333315), (9999993, 6088742, 60887377378806)]\n",
      "[(9999995, 5866663, 58666600666685), (9999995, 5133337, 51333344333315), (9999993, 6088742, 60887377378806), (9999987, 4959262, 49592555529594)]\n",
      "[(9999995, 5866663, 58666600666685), (9999995, 5133337, 51333344333315), (9999993, 6088742, 60887377378806), (9999987, 4959262, 49592555529594), (9999987, 2907916, 29079122197092)]\n",
      "[(9999995, 5866663, 58666600666685), (9999995, 5133337, 51333344333315), (9999993, 6088742, 60887377378806), (9999987, 4959262, 49592555529594), (9999987, 2907916, 29079122197092), (9999984, 8237042, 82370288207328)]\n"
     ]
    },
    {
     "ename": "KeyboardInterrupt",
     "evalue": "",
     "output_type": "error",
     "traceback": [
      "\u001b[31m---------------------------------------------------------------------------\u001b[39m",
      "\u001b[31mKeyboardInterrupt\u001b[39m                         Traceback (most recent call last)",
      "\u001b[36mCell\u001b[39m\u001b[36m \u001b[39m\u001b[32mIn[3]\u001b[39m\u001b[32m, line 4\u001b[39m\n\u001b[32m      1\u001b[39m \u001b[38;5;28;01mimport\u001b[39;00m\u001b[38;5;250m \u001b[39m\u001b[34;01mtime\u001b[39;00m\n\u001b[32m      3\u001b[39m start = time.time()\n\u001b[32m----> \u001b[39m\u001b[32m4\u001b[39m result = \u001b[43mpalindromic_product\u001b[49m\u001b[43m(\u001b[49m\u001b[32;43m7\u001b[39;49m\u001b[43m)\u001b[49m\n\u001b[32m      5\u001b[39m end = time.time()\n\u001b[32m      6\u001b[39m \u001b[38;5;28mprint\u001b[39m(result, end - start)\n",
      "\u001b[36mCell\u001b[39m\u001b[36m \u001b[39m\u001b[32mIn[2]\u001b[39m\u001b[32m, line 18\u001b[39m, in \u001b[36mpalindromic_product\u001b[39m\u001b[34m(n)\u001b[39m\n\u001b[32m     15\u001b[39m \u001b[38;5;28;01mif\u001b[39;00m int1 >= int2:\n\u001b[32m     16\u001b[39m     product = int1 * int2\n\u001b[32m---> \u001b[39m\u001b[32m18\u001b[39m     \u001b[38;5;28;01mif\u001b[39;00m \u001b[38;5;28;43mstr\u001b[39;49m\u001b[43m(\u001b[49m\u001b[43mproduct\u001b[49m\u001b[43m)\u001b[49m == \u001b[38;5;28mstr\u001b[39m(product)[::-\u001b[32m1\u001b[39m]:\n\u001b[32m     19\u001b[39m         temp.append((int1, int2, product))\n\u001b[32m     20\u001b[39m         \u001b[38;5;28mprint\u001b[39m(temp)\n",
      "\u001b[31mKeyboardInterrupt\u001b[39m: "
     ]
    }
   ],
   "source": [
    "import time\n",
    "\n",
    "start = time.time()\n",
    "result = palindromic_product(7)\n",
    "end = time.time()\n",
    "print(result, end - start)"
   ]
  }
 ],
 "metadata": {
  "kernelspec": {
   "display_name": "Python 3",
   "language": "python",
   "name": "python3"
  },
  "language_info": {
   "codemirror_mode": {
    "name": "ipython",
    "version": 3
   },
   "file_extension": ".py",
   "mimetype": "text/x-python",
   "name": "python",
   "nbconvert_exporter": "python",
   "pygments_lexer": "ipython3",
   "version": "3.12.1"
  }
 },
 "nbformat": 4,
 "nbformat_minor": 5
}
