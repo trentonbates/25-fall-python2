{
 "cells": [
  {
   "cell_type": "code",
   "execution_count": 80,
   "id": "17fffd3c",
   "metadata": {},
   "outputs": [],
   "source": [
    "def palindromic_product(n):\n",
    "    # initialize variable to track largest product\n",
    "    largest_product = 0\n",
    "    lower_limit = pow(10, n - 1)\n",
    "    upper_limit = pow(10, n)\n",
    "\n",
    "    # iterates from biggest n-digit number to the smallest n-digit number\n",
    "    for int1 in range(upper_limit - 1, lower_limit - 1, -1):\n",
    "        # starting this loop at int1 avoids duplicate calculations\n",
    "        for int2 in range(int1, lower_limit - 1, -1):\n",
    "            product = int1 * int2\n",
    "\n",
    "            # checks if current product is less than the current largest product, if Yes, stops current iteration, if No, sets largest product to current product\n",
    "            if product <= largest_product:\n",
    "                break\n",
    "\n",
    "            # checks if current product is a palindrome\n",
    "            if str(product) == str(product)[::-1]:\n",
    "                largest_product = product\n",
    "\n",
    "    return largest_product"
   ]
  },
  {
   "cell_type": "code",
   "execution_count": 81,
   "metadata": {},
   "outputs": [
    {
     "name": "stdout",
     "output_type": "stream",
     "text": [
      "906609 0.0008971691131591797\n"
     ]
    }
   ],
   "source": [
    "import time\n",
    "\n",
    "start = time.time()\n",
    "result = palindromic_product(3)\n",
    "end = time.time()\n",
    "print(result, end - start)"
   ]
  }
 ],
 "metadata": {
  "kernelspec": {
   "display_name": "Python 3",
   "language": "python",
   "name": "python3"
  },
  "language_info": {
   "codemirror_mode": {
    "name": "ipython",
    "version": 3
   },
   "file_extension": ".py",
   "mimetype": "text/x-python",
   "name": "python",
   "nbconvert_exporter": "python",
   "pygments_lexer": "ipython3",
   "version": "3.13.3"
  }
 },
 "nbformat": 4,
 "nbformat_minor": 5
}
