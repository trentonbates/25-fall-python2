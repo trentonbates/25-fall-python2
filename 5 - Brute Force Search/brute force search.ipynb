{
 "cells": [
  {
   "cell_type": "code",
   "execution_count": 96,
   "id": "17fffd3c",
   "metadata": {},
   "outputs": [],
   "source": [
    "def palindromic_product(n):\n",
    "    # initialize variable to track largest product and set the upper and lower limits\n",
    "    largest_product = 0\n",
    "    lower_limit = pow(10, n - 1)\n",
    "    upper_limit = pow(10, n)\n",
    "\n",
    "    # iterates from biggest n-digit number to the smallest n-digit number\n",
    "    for int1 in range(upper_limit - 1, lower_limit - 1, -1):\n",
    "        # starting this inner loop at int1 avoids duplicate calculations\n",
    "        for int2 in range(int1, lower_limit - 1, -1):\n",
    "            product = int1 * int2\n",
    "\n",
    "            # checks if current product is less than the current largest product, if Yes, stops current iteration, if No, sets largest product to current product\n",
    "            if product <= largest_product:\n",
    "                break\n",
    "\n",
    "            # checks if current product is a palindrome\n",
    "            if str(product) == str(product)[::-1]:\n",
    "                largest_product = product\n",
    "\n",
    "    return largest_product"
   ]
  },
  {
   "cell_type": "code",
   "execution_count": 108,
   "metadata": {},
   "outputs": [
    {
     "name": "stdout",
     "output_type": "stream",
     "text": [
      "906609 0.0008625984191894531\n"
     ]
    }
   ],
   "source": [
    "import time\n",
    "\n",
    "start = time.time()\n",
    "result = palindromic_product(3)\n",
    "end = time.time()\n",
    "print(result, end - start)"
   ]
  },
  {
   "cell_type": "code",
   "execution_count": null,
   "id": "58150240",
   "metadata": {},
   "outputs": [],
   "source": [
    "def primes_list(n):\n",
    "    # if n is 2, returns a list with only 2\n",
    "    if n == 2:\n",
    "        return [2]\n",
    "    # if n is less than 2 or is an even number, returns an empty list\n",
    "    if n < 2 or n % 2 == 0:\n",
    "        return list()\n",
    "    \n",
    "    # list to store prime numbers\n",
    "    primes = [2]\n",
    "\n",
    "    # since we have a check if n is either 1 or 2, we start the loop at 3 and check each odd number up to n\n",
    "    for num in range(3, n + 1, 2):\n",
    "        # flag to track if num is prime or not\n",
    "        is_prime = True\n",
    "        for prime in primes:\n",
    "            # if prime squared is greater than num, the primes following that up to num do not need to be checked if they are prime or not\n",
    "            if pow(prime, 2) > num:\n",
    "                break\n",
    "            # check if num is an even number, if so, set is_prime to False\n",
    "            if num % prime == 0:\n",
    "                is_prime = False\n",
    "                break\n",
    "        # if is_prime is True, then num gets added to primes\n",
    "        if is_prime:\n",
    "            primes.append(num)\n",
    "    \n",
    "    return primes"
   ]
  },
  {
   "cell_type": "code",
   "execution_count": 123,
   "id": "781d904d",
   "metadata": {},
   "outputs": [
    {
     "name": "stdout",
     "output_type": "stream",
     "text": [
      "[2, 3, 5, 7, 11, 13, 17, 19, 23, 29]\n"
     ]
    }
   ],
   "source": [
    "print(primes_list(29))"
   ]
  }
 ],
 "metadata": {
  "kernelspec": {
   "display_name": "Python 3",
   "language": "python",
   "name": "python3"
  },
  "language_info": {
   "codemirror_mode": {
    "name": "ipython",
    "version": 3
   },
   "file_extension": ".py",
   "mimetype": "text/x-python",
   "name": "python",
   "nbconvert_exporter": "python",
   "pygments_lexer": "ipython3",
   "version": "3.13.3"
  }
 },
 "nbformat": 4,
 "nbformat_minor": 5
}
